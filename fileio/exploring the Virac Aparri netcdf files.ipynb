{
 "metadata": {
  "name": "",
  "signature": "sha256:980e4d6baa715ae464643bd523659352b91717bce130084ab783d229319d0d25"
 },
 "nbformat": 3,
 "nbformat_minor": 0,
 "worksheets": [
  {
   "cells": [
    {
     "cell_type": "code",
     "collapsed": false,
     "input": [
      "import numpy as np\n",
      "import pylab as pl\n",
      "import netCDF4 as nc"
     ],
     "language": "python",
     "metadata": {},
     "outputs": [],
     "prompt_number": 36
    },
    {
     "cell_type": "code",
     "collapsed": false,
     "input": [
      "pathfile = r'E:\\DATA\\RADAR\\VIRAC\\virac_201410080003_EL+0000P1_S04_ppi_Z_200km_doppler.nc'"
     ],
     "language": "python",
     "metadata": {},
     "outputs": [],
     "prompt_number": 37
    },
    {
     "cell_type": "code",
     "collapsed": false,
     "input": [
      "dset = nc.Dataset(pathfile)"
     ],
     "language": "python",
     "metadata": {},
     "outputs": [],
     "prompt_number": 38
    },
    {
     "cell_type": "code",
     "collapsed": false,
     "input": [
      "dset.ncattrs()"
     ],
     "language": "python",
     "metadata": {},
     "outputs": [
      {
       "metadata": {},
       "output_type": "pyout",
       "prompt_number": 39,
       "text": [
        "[]"
       ]
      }
     ],
     "prompt_number": 39
    },
    {
     "cell_type": "code",
     "collapsed": false,
     "input": [
      "dset.variables"
     ],
     "language": "python",
     "metadata": {},
     "outputs": [
      {
       "metadata": {},
       "output_type": "pyout",
       "prompt_number": 40,
       "text": [
        "OrderedDict([(u'lon', <netCDF4.Variable object at 0x05609DF0>), (u'lat', <netCDF4.Variable object at 0x05609F30>), (u'time', <netCDF4.Variable object at 0x056D9030>), (u'PPI Z : D', <netCDF4.Variable object at 0x056D9080>)])"
       ]
      }
     ],
     "prompt_number": 40
    },
    {
     "cell_type": "code",
     "collapsed": false,
     "input": [
      "dset.data_model"
     ],
     "language": "python",
     "metadata": {},
     "outputs": [
      {
       "metadata": {},
       "output_type": "pyout",
       "prompt_number": 41,
       "text": [
        "'NETCDF3_CLASSIC'"
       ]
      }
     ],
     "prompt_number": 41
    },
    {
     "cell_type": "code",
     "collapsed": false,
     "input": [
      "dset.dimensions"
     ],
     "language": "python",
     "metadata": {},
     "outputs": [
      {
       "metadata": {},
       "output_type": "pyout",
       "prompt_number": 42,
       "text": [
        "OrderedDict([(u'lon', <netCDF4.Dimension object at 0x05663720>), (u'lat', <netCDF4.Dimension object at 0x05663D20>), (u'time', <netCDF4.Dimension object at 0x05663D50>)])"
       ]
      }
     ],
     "prompt_number": 42
    },
    {
     "cell_type": "code",
     "collapsed": false,
     "input": [
      "data = dset.variables['PPI Z : D'][:]"
     ],
     "language": "python",
     "metadata": {},
     "outputs": [],
     "prompt_number": 45
    },
    {
     "cell_type": "code",
     "collapsed": false,
     "input": [
      "data.shape"
     ],
     "language": "python",
     "metadata": {},
     "outputs": [
      {
       "metadata": {},
       "output_type": "pyout",
       "prompt_number": 46,
       "text": [
        "(1, 360, 360)"
       ]
      }
     ],
     "prompt_number": 46
    },
    {
     "cell_type": "code",
     "collapsed": false,
     "input": [
      "pl.pcolormesh(data[0])"
     ],
     "language": "python",
     "metadata": {},
     "outputs": [
      {
       "metadata": {},
       "output_type": "pyout",
       "prompt_number": 47,
       "text": [
        "<matplotlib.collections.QuadMesh at 0x53e4b50>"
       ]
      },
      {
       "metadata": {},
       "output_type": "display_data",
       "png": "[encoded data removed]",
       "text": [
        "<matplotlib.figure.Figure at 0x53e80b0>"
       ]
      }
     ],
     "prompt_number": 47
    },
    {
     "cell_type": "code",
     "collapsed": false,
     "input": [
      "data.max()"
     ],
     "language": "python",
     "metadata": {},
     "outputs": [
      {
       "metadata": {},
       "output_type": "pyout",
       "prompt_number": 48,
       "text": [
        "64"
       ]
      }
     ],
     "prompt_number": 48
    },
    {
     "cell_type": "code",
     "collapsed": false,
     "input": [
      "data.min()"
     ],
     "language": "python",
     "metadata": {},
     "outputs": [
      {
       "metadata": {},
       "output_type": "pyout",
       "prompt_number": 49,
       "text": [
        "0"
       ]
      }
     ],
     "prompt_number": 49
    },
    {
     "cell_type": "code",
     "collapsed": false,
     "input": [
      "lat = dset.variables['lat'][:]"
     ],
     "language": "python",
     "metadata": {},
     "outputs": [],
     "prompt_number": 50
    },
    {
     "cell_type": "code",
     "collapsed": false,
     "input": [
      "lat"
     ],
     "language": "python",
     "metadata": {},
     "outputs": [
      {
       "metadata": {},
       "output_type": "pyout",
       "prompt_number": 51,
       "text": [
        "array([ 15.43378544,  15.4237709 ,  15.41375637,  15.40374088,\n",
        "        15.39372635,  15.38371181,  15.37369633,  15.36368179,\n",
        "        15.35366726,  15.34365177,  15.33363724,  15.3236227 ,\n",
        "        15.31360722,  15.30359268,  15.29357815,  15.28356266,\n",
        "        15.27354813,  15.26353359,  15.2535181 ,  15.24350357,\n",
        "        15.23348904,  15.22347355,  15.21345901,  15.20344448,\n",
        "        15.19342899,  15.18341446,  15.17339993,  15.16338444,\n",
        "        15.1533699 ,  15.14335537,  15.13333988,  15.12332535,\n",
        "        15.11330986,  15.10329533,  15.09328079,  15.0832653 ,\n",
        "        15.07325077,  15.06323624,  15.05322075,  15.04320621,\n",
        "        15.03319168,  15.02317619,  15.01316166,  15.00314713,\n",
        "        14.99313164,  14.9831171 ,  14.97310257,  14.96308708,\n",
        "        14.95307255,  14.94305801,  14.93304253,  14.92302799,\n",
        "        14.91301346,  14.90299797,  14.89298344,  14.8829689 ,\n",
        "        14.87295341,  14.86293888,  14.85292435,  14.84290886,\n",
        "        14.83289433,  14.82287979,  14.8128643 ,  14.80284977,\n",
        "        14.79283524,  14.78281975,  14.77280521,  14.76279068,\n",
        "        14.75277519,  14.74276066,  14.73274612,  14.72273064,\n",
        "        14.7127161 ,  14.70270157,  14.69268608,  14.68267155,\n",
        "        14.67265606,  14.66264153,  14.65262699,  14.6426115 ,\n",
        "        14.63259697,  14.62258244,  14.61256695,  14.60255241,\n",
        "        14.59253788,  14.58252239,  14.57250786,  14.56249332,\n",
        "        14.55247784,  14.5424633 ,  14.53244877,  14.52243328,\n",
        "        14.51241875,  14.50240421,  14.49238873,  14.48237419,\n",
        "        14.47235966,  14.46234417,  14.45232964,  14.4423151 ,\n",
        "        14.43229961,  14.42228508,  14.41227055,  14.40225506,\n",
        "        14.39224052,  14.38222599,  14.3722105 ,  14.36219597,\n",
        "        14.35218143,  14.34216595,  14.33215141,  14.32213688,\n",
        "        14.31212139,  14.30210686,  14.29209232,  14.28207684,\n",
        "        14.2720623 ,  14.26204681,  14.25203228,  14.24201775,\n",
        "        14.23200226,  14.22198772,  14.21197319,  14.2019577 ,\n",
        "        14.19194317,  14.18192863,  14.17191315,  14.16189861,\n",
        "        14.15188408,  14.14186859,  14.13185406,  14.12183952,\n",
        "        14.11182404,  14.1018095 ,  14.09179497,  14.08177948,\n",
        "        14.07176495,  14.06175041,  14.05173492,  14.04172039,\n",
        "        14.03170586,  14.02169037,  14.01167583,  14.0016613 ,\n",
        "        13.99164581,  13.98163128,  13.97161674,  13.96160126,\n",
        "        13.95158672,  13.94157219,  13.9315567 ,  13.92154217,\n",
        "        13.91152763,  13.90151215,  13.89149761,  13.88148308,\n",
        "        13.87146759,  13.86145306,  13.85143852,  13.84142303,\n",
        "        13.8314085 ,  13.82139301,  13.81137848,  13.80136395,\n",
        "        13.79134846,  13.78133392,  13.77131939,  13.7613039 ,\n",
        "        13.75128937,  13.74127483,  13.73125935,  13.72124481,\n",
        "        13.71123028,  13.70121479,  13.69120026,  13.68118572,\n",
        "        13.67117023,  13.6611557 ,  13.65114117,  13.64112568,\n",
        "        13.63111115,  13.62109661,  13.61108112,  13.60106659,\n",
        "        13.59105206,  13.58103657,  13.57102203,  13.5610075 ,\n",
        "        13.55099201,  13.54097748,  13.53096294,  13.52094746,\n",
        "        13.51093292,  13.50091839,  13.4909029 ,  13.48088837,\n",
        "        13.47087383,  13.46085835,  13.45084381,  13.44082928,\n",
        "        13.43081379,  13.42079926,  13.41078377,  13.40076923,\n",
        "        13.3907547 ,  13.38073921,  13.37072468,  13.36071014,\n",
        "        13.35069466,  13.34068012,  13.33066559,  13.3206501 ,\n",
        "        13.31063557,  13.30062103,  13.29060555,  13.28059101,\n",
        "        13.27057648,  13.26056099,  13.25054646,  13.24053192,\n",
        "        13.23051643,  13.2205019 ,  13.21048737,  13.20047188,\n",
        "        13.19045734,  13.18044281,  13.17042732,  13.16041279,\n",
        "        13.15039825,  13.14038277,  13.13036823,  13.1203537 ,\n",
        "        13.11033821,  13.10032368,  13.09030914,  13.08029366,\n",
        "        13.07027912,  13.06026459,  13.0502491 ,  13.04023457,\n",
        "        13.03022003,  13.02020454,  13.01019001,  13.00017548,\n",
        "        12.99015999,  12.98014545,  12.97012997,  12.96011543,\n",
        "        12.9501009 ,  12.94008541,  12.93007088,  12.92005634,\n",
        "        12.91004086,  12.90002632,  12.89001179,  12.8799963 ,\n",
        "        12.86998177,  12.85996723,  12.84995174,  12.83993721,\n",
        "        12.82992268,  12.81990719,  12.80989265,  12.79987812,\n",
        "        12.78986263,  12.7798481 ,  12.76983356,  12.75981808,\n",
        "        12.74980354,  12.73978901,  12.72977352,  12.71975899,\n",
        "        12.70974445,  12.69972897,  12.68971443,  12.6796999 ,\n",
        "        12.66968441,  12.65966988,  12.64965534,  12.63963985,\n",
        "        12.62962532,  12.61961079,  12.6095953 ,  12.59958076,\n",
        "        12.58956623,  12.57955074,  12.56953621,  12.55952072,\n",
        "        12.54950619,  12.53949165,  12.52947617,  12.51946163,\n",
        "        12.5094471 ,  12.49943161,  12.48941708,  12.47940254,\n",
        "        12.46938705,  12.45937252,  12.44935799,  12.4393425 ,\n",
        "        12.42932796,  12.41931343,  12.40929794,  12.39928341,\n",
        "        12.38926888,  12.37925339,  12.36923885,  12.35922432,\n",
        "        12.34920883,  12.3391943 ,  12.32917976,  12.31916428,\n",
        "        12.30914974,  12.29913521,  12.28911972,  12.27910519,\n",
        "        12.26909065,  12.25907516,  12.24906063,  12.2390461 ,\n",
        "        12.22903061,  12.21901608,  12.20900154,  12.19898605,\n",
        "        12.18897152,  12.17895699,  12.1689415 ,  12.15892696,\n",
        "        12.14891243,  12.13889694,  12.12888241,  12.11886692,\n",
        "        12.10885239,  12.09883785,  12.08882236,  12.07880783,\n",
        "        12.0687933 ,  12.05877781,  12.04876328,  12.03874874,\n",
        "        12.02873325,  12.01871872,  12.00870419,  11.9986887 ,\n",
        "        11.98867416,  11.97865963,  11.96864414,  11.95862961,\n",
        "        11.94861507,  11.93859959,  11.92858505,  11.91857052,\n",
        "        11.90855503,  11.8985405 ,  11.88852596,  11.87851048,\n",
        "        11.86849594,  11.85848141,  11.84846592,  11.83845139], dtype=float32)"
       ]
      }
     ],
     "prompt_number": 51
    },
    {
     "cell_type": "code",
     "collapsed": false,
     "input": [],
     "language": "python",
     "metadata": {},
     "outputs": []
    }
   ],
   "metadata": {}
  }
 ]
}