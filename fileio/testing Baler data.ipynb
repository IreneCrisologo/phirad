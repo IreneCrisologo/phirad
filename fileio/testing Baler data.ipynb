{
 "metadata": {
  "name": "",
  "signature": "sha256:06cb3ea843cdff74df3b0d382be944882d177fcc558ba9042ece5284bcdd1d3e"
 },
 "nbformat": 3,
 "nbformat_minor": 0,
 "worksheets": [
  {
   "cells": [
    {
     "cell_type": "code",
     "collapsed": false,
     "input": [
      "%pylab inline\n",
      "import netCDF4 as nc\n",
      "import numpy as np\n",
      "import os\n",
      "import datetime as dt\n",
      "import wradlib as wrl\n",
      "import pylab as pl\n"
     ],
     "language": "python",
     "metadata": {},
     "outputs": [
      {
       "output_type": "stream",
       "stream": "stdout",
       "text": [
        "Populating the interactive namespace from numpy and matplotlib\n"
       ]
      }
     ],
     "prompt_number": 2
    },
    {
     "cell_type": "code",
     "collapsed": false,
     "input": [
      "def read_IRIS_netcdf(filename, variable='Z', enforce_equidist=False):\n",
      "    \"\"\"Data reader for netCDF files exported by the IRIS radar software\n",
      "\n",
      "    The netcdf files produced by the IRIS software usually contains two\n",
      "    variables: reflectivity (Z) and total power (T). The default variable read\n",
      "    is reflectivity.\n",
      "\n",
      "    Parameters\n",
      "    ----------\n",
      "    filename : path of the netCDF file\n",
      "    enforce_equidist : boolean\n",
      "        Set True if the values of the azimuth angles should be forced to be equidistant\n",
      "        default value is False\n",
      "\n",
      "    Returns\n",
      "    -------\n",
      "    output : numpy array of image data (dBZ), dictionary of attributes\n",
      "\n",
      "    \"\"\"\n",
      "    # read the data from file\n",
      "    dset = nc.Dataset(filename)\n",
      "    data = dset.variables[variable][:]\n",
      "    # Check azimuth angles and rotate image\n",
      "    az = dset.variables['radialAzim'][:]\n",
      "    # These are the indices of the minimum and maximum azimuth angle\n",
      "    ix_minaz = np.argmin(az)\n",
      "    ix_maxaz = np.argmax(az)\n",
      "##    if enforce_equidist:\n",
      "##        az = np.linspace(np.round(az[ix_minaz],2), np.round(az[ix_maxaz],2), len(az))\n",
      "##    else:\n",
      "##        az = np.roll(az, -ix_minaz)\n",
      "##    # rotate accordingly\n",
      "##    data = np.roll(data, -ix_minaz, axis=0)\n",
      "    data = np.where(data==dset.variables[variable].getncattr('_FillValue'), np.nan, data)\n",
      "    # Ranges\n",
      "    binwidth = dset.variables['gateSize'][:]\n",
      "    r = np.arange(binwidth, (dset.variables['Z'].shape[-1]*binwidth) + binwidth, binwidth)\n",
      "    # collect attributes\n",
      "    attrs =  {}\n",
      "    for attrname in dset.ncattrs():\n",
      "        attrs[attrname] = dset.getncattr(attrname)\n",
      "\n",
      "    # Set additional metadata attributes\n",
      "    attrs['az'] = az\n",
      "    attrs['r']  = r\n",
      "    attrs['ElevationAngle'] = dset.variables['elevationAngle'][:]\n",
      "    attrs['firstGateRange'] = dset.variables['firstGateRange'][:]\n",
      "    attrs['gateSize'] = dset.variables['gateSize'][:]\n",
      "    attrs['nyquist'] = dset.variables['nyquist'][:]\n",
      "    attrs['unambigRange'] = dset.variables['unambigRange'][:]\n",
      "    attrs['calibConst'] = dset.variables['calibConst'][:]\n",
      "    attrs['Longitude'] = dset.variables['siteLat'][:]\n",
      "    attrs['Latitude'] = dset.variables['siteLon'][:]\n",
      "    attrs['sitecoords'] = (dset.variables['siteLat'][:], dset.variables['siteLon'][:], dset.variables['siteAlt'][:])\n",
      "    attrs['Time'] = dt.datetime.utcfromtimestamp(dset.variables['esStartTime'][:])\n",
      "    attrs['max_range'] = data.shape[1] * binwidth\n",
      "    dset.close()\n",
      "\n",
      "    return data, attrs"
     ],
     "language": "python",
     "metadata": {},
     "outputs": [],
     "prompt_number": 3
    },
    {
     "cell_type": "code",
     "collapsed": false,
     "input": [
      "path_data = r\"U:\\DATA\"\n",
      "#file_BAL = \"Output07BAL151001163324.RAW4JKR_sweep2.nc\"\n",
      "#file_BAL = \"Output07BAL151001060016.RAW4JJN_sweep1.nc\"\n",
      "#file_BAL = \"Output07BAL151001163016.RAW4JKP_sweep1.nc\"\n",
      "file_BAL = \"Output07BAL150705000016.RAW2TW3_sweep1.nc\"\n",
      "#file_BAL = \"Output07BAL150705000322.RAW2TW4_sweep1.nc\"\n",
      "# BAL\n",
      "data_BAL, attrs_BAL = read_IRIS_netcdf(os.path.join(path_data, file_BAL))\n",
      "wrl.vis.plot_ppi(data_BAL) "
     ],
     "language": "python",
     "metadata": {},
     "outputs": [
      {
       "metadata": {},
       "output_type": "pyout",
       "prompt_number": 11,
       "text": [
        "(<matplotlib.axes.AxesSubplot at 0xd621530>,\n",
        " <matplotlib.collections.QuadMesh at 0xd5935b0>)"
       ]
      },
      {
       "metadata": {},
       "output_type": "display_data",
       "png": "[encoded data removed]",
       "text": [
        "<matplotlib.figure.Figure at 0xd3bc670>"
       ]
      }
     ],
     "prompt_number": 11
    },
    {
     "cell_type": "code",
     "collapsed": false,
     "input": [
      "attrs_BAL['max_range']"
     ],
     "language": "python",
     "metadata": {},
     "outputs": [
      {
       "metadata": {},
       "output_type": "pyout",
       "prompt_number": 12,
       "text": [
        "500250.0"
       ]
      }
     ],
     "prompt_number": 12
    },
    {
     "cell_type": "code",
     "collapsed": false,
     "input": [
      "data_BAL.shape"
     ],
     "language": "python",
     "metadata": {},
     "outputs": [
      {
       "metadata": {},
       "output_type": "pyout",
       "prompt_number": 13,
       "text": [
        "(360, 2001)"
       ]
      }
     ],
     "prompt_number": 13
    },
    {
     "cell_type": "code",
     "collapsed": false,
     "input": [
      "attrs_BAL['gateSize']"
     ],
     "language": "python",
     "metadata": {},
     "outputs": [
      {
       "metadata": {},
       "output_type": "pyout",
       "prompt_number": 14,
       "text": [
        "250.0"
       ]
      }
     ],
     "prompt_number": 14
    },
    {
     "cell_type": "code",
     "collapsed": false,
     "input": [
      "attrs_BAL['r'].max()"
     ],
     "language": "python",
     "metadata": {},
     "outputs": [
      {
       "metadata": {},
       "output_type": "pyout",
       "prompt_number": 15,
       "text": [
        "500250.0"
       ]
      }
     ],
     "prompt_number": 15
    },
    {
     "cell_type": "code",
     "collapsed": false,
     "input": [
      "data_BAL.shape[-1]"
     ],
     "language": "python",
     "metadata": {},
     "outputs": [
      {
       "metadata": {},
       "output_type": "pyout",
       "prompt_number": 16,
       "text": [
        "2001"
       ]
      }
     ],
     "prompt_number": 16
    },
    {
     "cell_type": "code",
     "collapsed": false,
     "input": [],
     "language": "python",
     "metadata": {},
     "outputs": [],
     "prompt_number": 9
    }
   ],
   "metadata": {}
  }
 ]
}